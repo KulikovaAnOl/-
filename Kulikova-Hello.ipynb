{
 "cells": [
  {
   "cell_type": "code",
   "execution_count": 1,
   "id": "68e5941f-eb4f-4e65-820a-5df93b627160",
   "metadata": {},
   "outputs": [],
   "source": [
    "#Первая программа на суперкомпьютере"
   ]
  },
  {
   "cell_type": "code",
   "execution_count": 3,
   "id": "8f8b49d0-2505-4c8b-85c8-cbf00a46a9d7",
   "metadata": {},
   "outputs": [
    {
     "name": "stdout",
     "output_type": "stream",
     "text": [
      "Hello, World!\n",
      "Куликова А.О.\n"
     ]
    }
   ],
   "source": [
    "print(\"Hello, World!\")\n",
    "print(\"Куликова А.О.\")"
   ]
  },
  {
   "cell_type": "code",
   "execution_count": null,
   "id": "8d9edd3c-b166-4ea9-9e75-eec94b62a31f",
   "metadata": {},
   "outputs": [],
   "source": []
  }
 ],
 "metadata": {
  "kernelspec": {
   "display_name": "Python 3 (ipykernel)",
   "language": "python",
   "name": "python3"
  },
  "language_info": {
   "codemirror_mode": {
    "name": "ipython",
    "version": 3
   },
   "file_extension": ".py",
   "mimetype": "text/x-python",
   "name": "python",
   "nbconvert_exporter": "python",
   "pygments_lexer": "ipython3",
   "version": "3.8.12"
  }
 },
 "nbformat": 4,
 "nbformat_minor": 5
}
